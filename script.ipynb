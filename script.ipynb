{
 "cells": [
  {
   "cell_type": "markdown",
   "id": "318ead85",
   "metadata": {},
   "source": [
    "# Poverty Prediction for Costa Rica\n",
    "## Import Libraries and dataframe"
   ]
  },
  {
   "cell_type": "code",
   "execution_count": 1,
   "id": "bcf75604",
   "metadata": {},
   "outputs": [],
   "source": [
    "import pandas as pd\n",
    "import numpy as np\n",
    "import matplotlib.pyplot as plt"
   ]
  },
  {
   "cell_type": "code",
   "execution_count": 2,
   "id": "66895dc0",
   "metadata": {},
   "outputs": [],
   "source": [
    "df = pd.read_csv('train.csv')"
   ]
  },
  {
   "cell_type": "code",
   "execution_count": 3,
   "id": "5ba81443",
   "metadata": {},
   "outputs": [
    {
     "data": {
      "text/plain": [
       "(9557, 143)"
      ]
     },
     "execution_count": 3,
     "metadata": {},
     "output_type": "execute_result"
    }
   ],
   "source": [
    "df.shape"
   ]
  },
  {
   "cell_type": "markdown",
   "id": "44e38ab4",
   "metadata": {},
   "source": [
    "## Clean Data"
   ]
  },
  {
   "cell_type": "code",
   "execution_count": 4,
   "id": "e4b70ec4",
   "metadata": {},
   "outputs": [
    {
     "data": {
      "text/html": [
       "<div>\n",
       "<style scoped>\n",
       "    .dataframe tbody tr th:only-of-type {\n",
       "        vertical-align: middle;\n",
       "    }\n",
       "\n",
       "    .dataframe tbody tr th {\n",
       "        vertical-align: top;\n",
       "    }\n",
       "\n",
       "    .dataframe thead th {\n",
       "        text-align: right;\n",
       "    }\n",
       "</style>\n",
       "<table border=\"1\" class=\"dataframe\">\n",
       "  <thead>\n",
       "    <tr style=\"text-align: right;\">\n",
       "      <th></th>\n",
       "      <th>Id</th>\n",
       "      <th>v2a1</th>\n",
       "      <th>hacdor</th>\n",
       "      <th>rooms</th>\n",
       "      <th>hacapo</th>\n",
       "      <th>v14a</th>\n",
       "      <th>refrig</th>\n",
       "      <th>v18q</th>\n",
       "      <th>v18q1</th>\n",
       "      <th>r4h1</th>\n",
       "      <th>...</th>\n",
       "      <th>SQBescolari</th>\n",
       "      <th>SQBage</th>\n",
       "      <th>SQBhogar_total</th>\n",
       "      <th>SQBedjefe</th>\n",
       "      <th>SQBhogar_nin</th>\n",
       "      <th>SQBovercrowding</th>\n",
       "      <th>SQBdependency</th>\n",
       "      <th>SQBmeaned</th>\n",
       "      <th>agesq</th>\n",
       "      <th>Target</th>\n",
       "    </tr>\n",
       "  </thead>\n",
       "  <tbody>\n",
       "    <tr>\n",
       "      <th>0</th>\n",
       "      <td>ID_279628684</td>\n",
       "      <td>190000.0</td>\n",
       "      <td>0</td>\n",
       "      <td>3</td>\n",
       "      <td>0</td>\n",
       "      <td>1</td>\n",
       "      <td>1</td>\n",
       "      <td>0</td>\n",
       "      <td>NaN</td>\n",
       "      <td>0</td>\n",
       "      <td>...</td>\n",
       "      <td>100</td>\n",
       "      <td>1849</td>\n",
       "      <td>1</td>\n",
       "      <td>100</td>\n",
       "      <td>0</td>\n",
       "      <td>1.000000</td>\n",
       "      <td>0.0</td>\n",
       "      <td>100.0</td>\n",
       "      <td>1849</td>\n",
       "      <td>4</td>\n",
       "    </tr>\n",
       "    <tr>\n",
       "      <th>1</th>\n",
       "      <td>ID_f29eb3ddd</td>\n",
       "      <td>135000.0</td>\n",
       "      <td>0</td>\n",
       "      <td>4</td>\n",
       "      <td>0</td>\n",
       "      <td>1</td>\n",
       "      <td>1</td>\n",
       "      <td>1</td>\n",
       "      <td>1.0</td>\n",
       "      <td>0</td>\n",
       "      <td>...</td>\n",
       "      <td>144</td>\n",
       "      <td>4489</td>\n",
       "      <td>1</td>\n",
       "      <td>144</td>\n",
       "      <td>0</td>\n",
       "      <td>1.000000</td>\n",
       "      <td>64.0</td>\n",
       "      <td>144.0</td>\n",
       "      <td>4489</td>\n",
       "      <td>4</td>\n",
       "    </tr>\n",
       "    <tr>\n",
       "      <th>2</th>\n",
       "      <td>ID_68de51c94</td>\n",
       "      <td>NaN</td>\n",
       "      <td>0</td>\n",
       "      <td>8</td>\n",
       "      <td>0</td>\n",
       "      <td>1</td>\n",
       "      <td>1</td>\n",
       "      <td>0</td>\n",
       "      <td>NaN</td>\n",
       "      <td>0</td>\n",
       "      <td>...</td>\n",
       "      <td>121</td>\n",
       "      <td>8464</td>\n",
       "      <td>1</td>\n",
       "      <td>0</td>\n",
       "      <td>0</td>\n",
       "      <td>0.250000</td>\n",
       "      <td>64.0</td>\n",
       "      <td>121.0</td>\n",
       "      <td>8464</td>\n",
       "      <td>4</td>\n",
       "    </tr>\n",
       "    <tr>\n",
       "      <th>3</th>\n",
       "      <td>ID_d671db89c</td>\n",
       "      <td>180000.0</td>\n",
       "      <td>0</td>\n",
       "      <td>5</td>\n",
       "      <td>0</td>\n",
       "      <td>1</td>\n",
       "      <td>1</td>\n",
       "      <td>1</td>\n",
       "      <td>1.0</td>\n",
       "      <td>0</td>\n",
       "      <td>...</td>\n",
       "      <td>81</td>\n",
       "      <td>289</td>\n",
       "      <td>16</td>\n",
       "      <td>121</td>\n",
       "      <td>4</td>\n",
       "      <td>1.777778</td>\n",
       "      <td>1.0</td>\n",
       "      <td>121.0</td>\n",
       "      <td>289</td>\n",
       "      <td>4</td>\n",
       "    </tr>\n",
       "    <tr>\n",
       "      <th>4</th>\n",
       "      <td>ID_d56d6f5f5</td>\n",
       "      <td>180000.0</td>\n",
       "      <td>0</td>\n",
       "      <td>5</td>\n",
       "      <td>0</td>\n",
       "      <td>1</td>\n",
       "      <td>1</td>\n",
       "      <td>1</td>\n",
       "      <td>1.0</td>\n",
       "      <td>0</td>\n",
       "      <td>...</td>\n",
       "      <td>121</td>\n",
       "      <td>1369</td>\n",
       "      <td>16</td>\n",
       "      <td>121</td>\n",
       "      <td>4</td>\n",
       "      <td>1.777778</td>\n",
       "      <td>1.0</td>\n",
       "      <td>121.0</td>\n",
       "      <td>1369</td>\n",
       "      <td>4</td>\n",
       "    </tr>\n",
       "  </tbody>\n",
       "</table>\n",
       "<p>5 rows × 143 columns</p>\n",
       "</div>"
      ],
      "text/plain": [
       "             Id      v2a1  hacdor  rooms  hacapo  v14a  refrig  v18q  v18q1  \\\n",
       "0  ID_279628684  190000.0       0      3       0     1       1     0    NaN   \n",
       "1  ID_f29eb3ddd  135000.0       0      4       0     1       1     1    1.0   \n",
       "2  ID_68de51c94       NaN       0      8       0     1       1     0    NaN   \n",
       "3  ID_d671db89c  180000.0       0      5       0     1       1     1    1.0   \n",
       "4  ID_d56d6f5f5  180000.0       0      5       0     1       1     1    1.0   \n",
       "\n",
       "   r4h1  ...  SQBescolari  SQBage  SQBhogar_total  SQBedjefe  SQBhogar_nin  \\\n",
       "0     0  ...          100    1849               1        100             0   \n",
       "1     0  ...          144    4489               1        144             0   \n",
       "2     0  ...          121    8464               1          0             0   \n",
       "3     0  ...           81     289              16        121             4   \n",
       "4     0  ...          121    1369              16        121             4   \n",
       "\n",
       "   SQBovercrowding  SQBdependency  SQBmeaned  agesq  Target  \n",
       "0         1.000000            0.0      100.0   1849       4  \n",
       "1         1.000000           64.0      144.0   4489       4  \n",
       "2         0.250000           64.0      121.0   8464       4  \n",
       "3         1.777778            1.0      121.0    289       4  \n",
       "4         1.777778            1.0      121.0   1369       4  \n",
       "\n",
       "[5 rows x 143 columns]"
      ]
     },
     "execution_count": 4,
     "metadata": {},
     "output_type": "execute_result"
    }
   ],
   "source": [
    "df.head()"
   ]
  },
  {
   "cell_type": "code",
   "execution_count": 5,
   "id": "e2126ca1",
   "metadata": {},
   "outputs": [
    {
     "name": "stdout",
     "output_type": "stream",
     "text": [
      "<class 'pandas.core.frame.DataFrame'>\n",
      "RangeIndex: 9557 entries, 0 to 9556\n",
      "Columns: 143 entries, Id to Target\n",
      "dtypes: float64(8), int64(130), object(5)\n",
      "memory usage: 10.4+ MB\n"
     ]
    }
   ],
   "source": [
    "df.info()"
   ]
  },
  {
   "cell_type": "markdown",
   "id": "db6b8c64",
   "metadata": {},
   "source": [
    "### Observation\n",
    "I already see some NaN values. It is hard to see all with a set this large so it's harder to determine which rows and columns"
   ]
  },
  {
   "cell_type": "code",
   "execution_count": 6,
   "id": "2bb57dc9",
   "metadata": {},
   "outputs": [
    {
     "data": {
      "text/plain": [
       "Index(['v2a1', 'v18q1', 'rez_esc', 'meaneduc', 'SQBmeaned'], dtype='object')"
      ]
     },
     "execution_count": 6,
     "metadata": {},
     "output_type": "execute_result"
    }
   ],
   "source": [
    "df.columns[df.isnull().sum() > 0]"
   ]
  },
  {
   "cell_type": "code",
   "execution_count": 7,
   "id": "e4e17197",
   "metadata": {},
   "outputs": [],
   "source": [
    "df.fillna(method='bfill', inplace=True)"
   ]
  },
  {
   "cell_type": "code",
   "execution_count": 9,
   "id": "bf248973",
   "metadata": {},
   "outputs": [
    {
     "data": {
      "text/plain": [
       "Index(['v18q1', 'rez_esc'], dtype='object')"
      ]
     },
     "execution_count": 9,
     "metadata": {},
     "output_type": "execute_result"
    }
   ],
   "source": [
    "df.columns[df.isnull().sum() > 0]"
   ]
  },
  {
   "cell_type": "code",
   "execution_count": 10,
   "id": "10a1eb85",
   "metadata": {},
   "outputs": [],
   "source": [
    "df.fillna(method='ffill', inplace=True)"
   ]
  },
  {
   "cell_type": "code",
   "execution_count": 11,
   "id": "e4ec4f94",
   "metadata": {},
   "outputs": [
    {
     "data": {
      "text/plain": [
       "Index([], dtype='object')"
      ]
     },
     "execution_count": 11,
     "metadata": {},
     "output_type": "execute_result"
    }
   ],
   "source": [
    "df.columns[df.isnull().sum() > 0]"
   ]
  },
  {
   "cell_type": "markdown",
   "id": "fd7daf95",
   "metadata": {},
   "source": [
    "### Identify conflicted categorical and numerical columns"
   ]
  },
  {
   "cell_type": "code",
   "execution_count": 13,
   "id": "80638798",
   "metadata": {},
   "outputs": [
    {
     "name": "stdout",
     "output_type": "stream",
     "text": [
      "{'edjefa', 'idhogar', 'Id', 'edjefe', 'dependency'}\n"
     ]
    }
   ],
   "source": [
    "num_cols = df.select_dtypes(include=np.number).columns.tolist()\n",
    "cat_cols = set(df.columns).difference(set(num_cols))\n",
    "print(cat_cols)"
   ]
  },
  {
   "cell_type": "markdown",
   "id": "ebb95541",
   "metadata": {},
   "source": [
    "#### Education\n",
    "edjefa and edjefe is the years of education for women and men respectivley. Looking at the actual csv data there are alot of numbers (ex: 12, 9, 4, 6 etc.).  There are also many 'no' values.  This likely means they do not have a record of education. So I will put this as 0."
   ]
  },
  {
   "cell_type": "code",
   "execution_count": 14,
   "id": "e6d71957",
   "metadata": {},
   "outputs": [],
   "source": [
    "df['edjefa'] = df['edjefa'].replace({'no': 0, 'yes': 1}).astype(float)\n",
    "df['edjefe'] = df['edjefe'].replace({'no': 0, 'yes': 1}).astype(float)"
   ]
  },
  {
   "cell_type": "code",
   "execution_count": 15,
   "id": "15c7db90",
   "metadata": {},
   "outputs": [
    {
     "name": "stdout",
     "output_type": "stream",
     "text": [
      "{'Id', 'idhogar', 'dependency'}\n"
     ]
    }
   ],
   "source": [
    "#re run conflicted cols code to check if it worked. \n",
    "num_cols = df.select_dtypes(include=np.number).columns.tolist()\n",
    "cat_cols = set(df.columns).difference(set(num_cols))\n",
    "print(cat_cols)"
   ]
  },
  {
   "cell_type": "code",
   "execution_count": 18,
   "id": "22895334",
   "metadata": {},
   "outputs": [
    {
     "data": {
      "text/plain": [
       "array([ 0., 11.,  4., 10.,  9., 15.,  7., 14., 13.,  8., 17.,  6.,  5.,\n",
       "        3., 16., 19.,  1., 21., 12.,  2., 20., 18.])"
      ]
     },
     "execution_count": 18,
     "metadata": {},
     "output_type": "execute_result"
    }
   ],
   "source": [
    "#It worked. I am going to check the unique values of those two columns before to make sure there aren't any weird outliers\n",
    "df['edjefa'].unique()"
   ]
  },
  {
   "cell_type": "code",
   "execution_count": 17,
   "id": "96e49ffe",
   "metadata": {},
   "outputs": [
    {
     "data": {
      "text/plain": [
       "array([10., 12.,  0., 11.,  9., 15.,  4.,  6.,  8., 17.,  7., 16., 14.,\n",
       "        5., 21.,  2., 19.,  1.,  3., 18., 13., 20.])"
      ]
     },
     "execution_count": 17,
     "metadata": {},
     "output_type": "execute_result"
    }
   ],
   "source": [
    "df['edjefe'].unique()"
   ]
  },
  {
   "cell_type": "code",
   "execution_count": 20,
   "id": "7213c62f",
   "metadata": {},
   "outputs": [
    {
     "data": {
      "text/plain": [
       "0.0     6230\n",
       "6.0      947\n",
       "11.0     399\n",
       "9.0      237\n",
       "8.0      217\n",
       "15.0     188\n",
       "7.0      179\n",
       "5.0      176\n",
       "3.0      152\n",
       "4.0      136\n",
       "14.0     120\n",
       "16.0     113\n",
       "10.0      96\n",
       "2.0       84\n",
       "17.0      76\n",
       "12.0      72\n",
       "1.0       69\n",
       "13.0      52\n",
       "21.0       5\n",
       "19.0       4\n",
       "18.0       3\n",
       "20.0       2\n",
       "Name: edjefa, dtype: int64"
      ]
     },
     "execution_count": 20,
     "metadata": {},
     "output_type": "execute_result"
    }
   ],
   "source": [
    "df['edjefa'].value_counts()"
   ]
  },
  {
   "cell_type": "code",
   "execution_count": 21,
   "id": "0fea11da",
   "metadata": {},
   "outputs": [
    {
     "data": {
      "text/plain": [
       "0.0     3762\n",
       "6.0     1845\n",
       "11.0     751\n",
       "9.0      486\n",
       "3.0      307\n",
       "15.0     285\n",
       "8.0      257\n",
       "7.0      234\n",
       "5.0      222\n",
       "14.0     208\n",
       "17.0     202\n",
       "2.0      194\n",
       "4.0      137\n",
       "16.0     134\n",
       "1.0      123\n",
       "12.0     113\n",
       "10.0     111\n",
       "13.0     103\n",
       "21.0      43\n",
       "18.0      19\n",
       "19.0      14\n",
       "20.0       7\n",
       "Name: edjefe, dtype: int64"
      ]
     },
     "execution_count": 21,
     "metadata": {},
     "output_type": "execute_result"
    }
   ],
   "source": [
    "df['edjefe'].value_counts()"
   ]
  },
  {
   "cell_type": "markdown",
   "id": "eec04073",
   "metadata": {},
   "source": [
    "#### Dependency\n",
    "Dependency represents rate of household members under 19 and over 64 to those between 19 and 64.  It is a calculated rate equal to (number of members of the household younger than 19 or older than 64)/(number of member of household between 19 and 64)\n",
    "\n",
    "The column is very uneven there is a lot of yes and no values which is obviously not a rate. \n",
    "\n",
    "A column that this relates to is SQBDependency which is the dependency rate squared.  A way to replace the unevenness of this column is to sqrt the SQBDependency col "
   ]
  },
  {
   "cell_type": "code",
   "execution_count": 22,
   "id": "c1f3c79e",
   "metadata": {},
   "outputs": [],
   "source": [
    "df['dependency'] = np.sqrt(df['SQBdependency'])"
   ]
  },
  {
   "cell_type": "code",
   "execution_count": 23,
   "id": "b09dd5a1",
   "metadata": {},
   "outputs": [
    {
     "data": {
      "text/plain": [
       "0"
      ]
     },
     "execution_count": 23,
     "metadata": {},
     "output_type": "execute_result"
    }
   ],
   "source": [
    "df.isna().sum().sum()"
   ]
  },
  {
   "cell_type": "code",
   "execution_count": 24,
   "id": "6b5454b2",
   "metadata": {},
   "outputs": [
    {
     "name": "stdout",
     "output_type": "stream",
     "text": [
      "{'Id', 'idhogar'}\n"
     ]
    }
   ],
   "source": [
    "#re run conflicted cols code to check if it worked. \n",
    "num_cols = df.select_dtypes(include=np.number).columns.tolist()\n",
    "cat_cols = set(df.columns).difference(set(num_cols))\n",
    "print(cat_cols)"
   ]
  },
  {
   "cell_type": "markdown",
   "id": "29f0ac98",
   "metadata": {},
   "source": [
    "#### Id and idhogar\n",
    "These are both IDs. ID is a unique identifier for each row and idhogar is an id for the household this is not helpful for fitting our data."
   ]
  },
  {
   "cell_type": "code",
   "execution_count": 28,
   "id": "d38e0f9f",
   "metadata": {},
   "outputs": [],
   "source": [
    "na_cols = df[['Id', 'idhogar']]\n",
    "df.drop(na_cols,axis=1,inplace=True)"
   ]
  },
  {
   "cell_type": "code",
   "execution_count": 29,
   "id": "1344af1c",
   "metadata": {},
   "outputs": [
    {
     "name": "stdout",
     "output_type": "stream",
     "text": [
      "set()\n"
     ]
    }
   ],
   "source": [
    "#re run conflicted cols code to check if it worked. \n",
    "num_cols = df.select_dtypes(include=np.number).columns.tolist()\n",
    "cat_cols = set(df.columns).difference(set(num_cols))\n",
    "print(cat_cols)"
   ]
  },
  {
   "cell_type": "markdown",
   "id": "b79fa6ee",
   "metadata": {},
   "source": [
    "## Identifying Features"
   ]
  },
  {
   "cell_type": "code",
   "execution_count": 30,
   "id": "0bc3726a",
   "metadata": {},
   "outputs": [],
   "source": [
    "train_set = df"
   ]
  },
  {
   "cell_type": "markdown",
   "id": "e06ac445",
   "metadata": {},
   "source": [
    "#### Rent Per....\n",
    "I am going to calculate the rent per adult and rent per total "
   ]
  },
  {
   "cell_type": "code",
   "execution_count": 32,
   "id": "bfe1f00a",
   "metadata": {},
   "outputs": [],
   "source": [
    "df['rent_per_adult'] = df['v2a1'] / df['hogar_adul']\n",
    "df['rent_per_person'] = df['v2a1'] / df['hogar_total']"
   ]
  },
  {
   "cell_type": "markdown",
   "id": "76679a0a",
   "metadata": {},
   "source": [
    "#### Overcrowding\n",
    "I will calculate the average of overcrowding by rooms and overcrowding by bedrooms.  These are either 1 for yes or 0 for no. "
   ]
  },
  {
   "cell_type": "code",
   "execution_count": 33,
   "id": "4a0a8dfb",
   "metadata": {},
   "outputs": [],
   "source": [
    "df['overcrowding'] = (df['hacdor'] + df['hacapo']) / 2 "
   ]
  },
  {
   "cell_type": "markdown",
   "id": "3d53df22",
   "metadata": {},
   "source": [
    "#### Gender Under 12\n",
    "I am going to look at the rates by gender for those under 12"
   ]
  },
  {
   "cell_type": "code",
   "execution_count": 39,
   "id": "d2646d12",
   "metadata": {},
   "outputs": [],
   "source": [
    "df['percent_female_under12'] = df['r4m1'] / df['r4m3']\n",
    "df['percent_male_under12'] = df['r4h1'] / df['r4h3']\n",
    "df['female_under12_to_total'] = df['r4m1'] / df['r4m3'] \n",
    "df['male_under12_to_total'] = df['r4h1'] / df['r4t3']\n",
    "df['all_under12_to_total'] = df['r4t1'] / df['r4t3']"
   ]
  },
  {
   "cell_type": "markdown",
   "id": "7e896ad3",
   "metadata": {},
   "source": [
    "#### Dependency\n",
    "Dependency is related to those living in the household under 19 and over 64. \n",
    "\n",
    "Lets look at the age groups and their percentage to the rest of the house..."
   ]
  },
  {
   "cell_type": "code",
   "execution_count": 44,
   "id": "2ec5ed0d",
   "metadata": {},
   "outputs": [],
   "source": [
    "df['adults'] = df['hogar_adul'] - df['hogar_mayor']\n",
    "df['total_dependents'] = df['hogar_nin'] + df['hogar_mayor']\n",
    "df['dependency rate'] = df['total_dependents'] / df['adults']\n",
    "df['dep_child_percent'] = df['hogar_nin'] / df['hogar_total']\n",
    "df['age_12_19'] = df['hogar_nin'] - df['r4t1']\n",
    "df['dep_elder_percent'] = df['hogar_mayor'] / df['hogar_total']\n",
    "df['adults_percent'] = df['hogar_adul'] / df['hogar_total']"
   ]
  },
  {
   "cell_type": "markdown",
   "id": "b2356ecc",
   "metadata": {},
   "source": [
    "#### Bedrooms\n",
    "Lets look at the number of bedrooms and how they relate to rent and some other features we've looked at already."
   ]
  },
  {
   "cell_type": "code",
   "execution_count": 40,
   "id": "1c08c0ef",
   "metadata": {},
   "outputs": [],
   "source": [
    "df['rent_per_bedroom'] = df['v2a1'] / df['bedrooms']\n",
    "df['adults_per_bedroom'] = df['adults'] / df['bedrooms']\n",
    "df['children_per_bedroom'] = df['hogar_nin'] / df['bedrooms']\n",
    "df['females_per_bedroom'] = df['r4m3'] / df['bedrooms']\n",
    "df['males_per_bedroom'] = df['r4t3'] / df['bedrooms']\n",
    "df['total_people_per_bedroom'] = df['hogar_total'] / df['bedrooms']"
   ]
  },
  {
   "cell_type": "markdown",
   "id": "1d9c768f",
   "metadata": {},
   "source": [
    "#### Technology\n",
    "Next I will add the features related to technology and what is in the household per person"
   ]
  },
  {
   "cell_type": "code",
   "execution_count": 43,
   "id": "936eb18f",
   "metadata": {},
   "outputs": [],
   "source": [
    "df['phones_per_person'] = df['qmobilephone'] / df['r4t3']\n",
    "df['tablets_per_person'] = df['v18q1'] / df['r4t3']"
   ]
  },
  {
   "cell_type": "markdown",
   "id": "520ae14c",
   "metadata": {},
   "source": [
    "#### Per Room....\n",
    "Lets look at different factors per room not just bedrooms"
   ]
  },
  {
   "cell_type": "code",
   "execution_count": 45,
   "id": "81e88af9",
   "metadata": {},
   "outputs": [],
   "source": [
    "df['rent_per_room'] = df['v2a1'] / df['rooms']\n",
    "df['bedrooms_per_room'] = df['bedrooms'] / df['rooms']\n",
    "df['adults_per_room'] = df['adults'] / df['rooms']\n",
    "df['child_per_room'] = df['hogar_nin'] / df['rooms']\n",
    "df['elder_per_room'] = df['hogar_mayor'] / df['rooms']\n",
    "df['females_per_room'] = df['r4m3'] / df['rooms']\n",
    "df['males_per_room'] = df['r4t3'] / df['rooms']\n",
    "df['total_people_per_room'] = df['hogar_total'] / df['rooms']"
   ]
  },
  {
   "cell_type": "markdown",
   "id": "252f359d",
   "metadata": {},
   "source": [
    "#### Schooling\n",
    "Lets look at the levels of schooling by various factors"
   ]
  },
  {
   "cell_type": "code",
   "execution_count": 47,
   "id": "02cb23a4",
   "metadata": {},
   "outputs": [],
   "source": [
    "df['school_years_to_age'] = df['escolari'] / df['age']\n",
    "df['years_behind_to_total_years'] = df['rez_esc'] / df['escolari']\n",
    "df['years_behind_under12'] = df['rez_esc'] / df['r4t1']\n",
    "df['years_behind_over12'] = df['rez_esc'] / df['r4t2']\n",
    "df['years_behind_house_total'] = df['rez_esc'] / df['r4t3']\n",
    "df['years_behind_to_age'] = df['rez_esc'] / df['age']"
   ]
  },
  {
   "cell_type": "code",
   "execution_count": 53,
   "id": "e24e0b80",
   "metadata": {},
   "outputs": [
    {
     "name": "stdout",
     "output_type": "stream",
     "text": [
      "Requirement already satisfied: lightgbm in /Users/hillaryweaver/anaconda3/lib/python3.10/site-packages (3.3.5)\n",
      "Requirement already satisfied: numpy in /Users/hillaryweaver/anaconda3/lib/python3.10/site-packages (from lightgbm) (1.23.5)\n",
      "Requirement already satisfied: wheel in /Users/hillaryweaver/anaconda3/lib/python3.10/site-packages (from lightgbm) (0.38.4)\n",
      "Requirement already satisfied: scikit-learn!=0.22.0 in /Users/hillaryweaver/anaconda3/lib/python3.10/site-packages (from lightgbm) (1.2.1)\n",
      "Requirement already satisfied: scipy in /Users/hillaryweaver/anaconda3/lib/python3.10/site-packages (from lightgbm) (1.10.0)\n",
      "Requirement already satisfied: threadpoolctl>=2.0.0 in /Users/hillaryweaver/anaconda3/lib/python3.10/site-packages (from scikit-learn!=0.22.0->lightgbm) (2.2.0)\n",
      "Requirement already satisfied: joblib>=1.1.1 in /Users/hillaryweaver/anaconda3/lib/python3.10/site-packages (from scikit-learn!=0.22.0->lightgbm) (1.1.1)\n"
     ]
    }
   ],
   "source": [
    "!pip install lightgbm"
   ]
  },
  {
   "cell_type": "code",
   "execution_count": 54,
   "id": "504fbfac",
   "metadata": {},
   "outputs": [
    {
     "ename": "OSError",
     "evalue": "dlopen(/Users/hillaryweaver/anaconda3/lib/python3.10/site-packages/lightgbm/lib_lightgbm.so, 0x0006): Library not loaded: '/usr/local/opt/libomp/lib/libomp.dylib'\n  Referenced from: '/Users/hillaryweaver/anaconda3/lib/python3.10/site-packages/lightgbm/lib_lightgbm.so'\n  Reason: tried: '/usr/local/opt/libomp/lib/libomp.dylib' (no such file), '/usr/local/lib/libomp.dylib' (no such file), '/usr/lib/libomp.dylib' (no such file)",
     "output_type": "error",
     "traceback": [
      "\u001b[0;31m---------------------------------------------------------------------------\u001b[0m",
      "\u001b[0;31mOSError\u001b[0m                                   Traceback (most recent call last)",
      "Cell \u001b[0;32mIn[54], line 1\u001b[0m\n\u001b[0;32m----> 1\u001b[0m \u001b[38;5;28;01mimport\u001b[39;00m \u001b[38;5;21;01mlightgbm\u001b[39;00m \u001b[38;5;28;01mas\u001b[39;00m \u001b[38;5;21;01mlgb\u001b[39;00m\n",
      "File \u001b[0;32m~/anaconda3/lib/python3.10/site-packages/lightgbm/__init__.py:8\u001b[0m\n\u001b[1;32m      2\u001b[0m \u001b[38;5;124;03m\"\"\"LightGBM, Light Gradient Boosting Machine.\u001b[39;00m\n\u001b[1;32m      3\u001b[0m \n\u001b[1;32m      4\u001b[0m \u001b[38;5;124;03mContributors: https://github.com/microsoft/LightGBM/graphs/contributors.\u001b[39;00m\n\u001b[1;32m      5\u001b[0m \u001b[38;5;124;03m\"\"\"\u001b[39;00m\n\u001b[1;32m      6\u001b[0m \u001b[38;5;28;01mfrom\u001b[39;00m \u001b[38;5;21;01mpathlib\u001b[39;00m \u001b[38;5;28;01mimport\u001b[39;00m Path\n\u001b[0;32m----> 8\u001b[0m \u001b[38;5;28;01mfrom\u001b[39;00m \u001b[38;5;21;01m.\u001b[39;00m\u001b[38;5;21;01mbasic\u001b[39;00m \u001b[38;5;28;01mimport\u001b[39;00m Booster, Dataset, Sequence, register_logger\n\u001b[1;32m      9\u001b[0m \u001b[38;5;28;01mfrom\u001b[39;00m \u001b[38;5;21;01m.\u001b[39;00m\u001b[38;5;21;01mcallback\u001b[39;00m \u001b[38;5;28;01mimport\u001b[39;00m early_stopping, log_evaluation, print_evaluation, record_evaluation, reset_parameter\n\u001b[1;32m     10\u001b[0m \u001b[38;5;28;01mfrom\u001b[39;00m \u001b[38;5;21;01m.\u001b[39;00m\u001b[38;5;21;01mengine\u001b[39;00m \u001b[38;5;28;01mimport\u001b[39;00m CVBooster, cv, train\n",
      "File \u001b[0;32m~/anaconda3/lib/python3.10/site-packages/lightgbm/basic.py:110\u001b[0m\n\u001b[1;32m    106\u001b[0m         \u001b[38;5;28;01mraise\u001b[39;00m LightGBMError(lib\u001b[38;5;241m.\u001b[39mLGBM_GetLastError()\u001b[38;5;241m.\u001b[39mdecode(\u001b[38;5;124m'\u001b[39m\u001b[38;5;124mutf-8\u001b[39m\u001b[38;5;124m'\u001b[39m))\n\u001b[1;32m    107\u001b[0m     \u001b[38;5;28;01mreturn\u001b[39;00m lib\n\u001b[0;32m--> 110\u001b[0m _LIB \u001b[38;5;241m=\u001b[39m \u001b[43m_load_lib\u001b[49m\u001b[43m(\u001b[49m\u001b[43m)\u001b[49m\n\u001b[1;32m    113\u001b[0m NUMERIC_TYPES \u001b[38;5;241m=\u001b[39m (\u001b[38;5;28mint\u001b[39m, \u001b[38;5;28mfloat\u001b[39m, \u001b[38;5;28mbool\u001b[39m)\n\u001b[1;32m    116\u001b[0m \u001b[38;5;28;01mdef\u001b[39;00m \u001b[38;5;21m_safe_call\u001b[39m(ret: \u001b[38;5;28mint\u001b[39m) \u001b[38;5;241m-\u001b[39m\u001b[38;5;241m>\u001b[39m \u001b[38;5;28;01mNone\u001b[39;00m:\n",
      "File \u001b[0;32m~/anaconda3/lib/python3.10/site-packages/lightgbm/basic.py:101\u001b[0m, in \u001b[0;36m_load_lib\u001b[0;34m()\u001b[0m\n\u001b[1;32m     99\u001b[0m \u001b[38;5;28;01mif\u001b[39;00m \u001b[38;5;28mlen\u001b[39m(lib_path) \u001b[38;5;241m==\u001b[39m \u001b[38;5;241m0\u001b[39m:\n\u001b[1;32m    100\u001b[0m     \u001b[38;5;28;01mreturn\u001b[39;00m \u001b[38;5;28;01mNone\u001b[39;00m\n\u001b[0;32m--> 101\u001b[0m lib \u001b[38;5;241m=\u001b[39m \u001b[43mctypes\u001b[49m\u001b[38;5;241;43m.\u001b[39;49m\u001b[43mcdll\u001b[49m\u001b[38;5;241;43m.\u001b[39;49m\u001b[43mLoadLibrary\u001b[49m\u001b[43m(\u001b[49m\u001b[43mlib_path\u001b[49m\u001b[43m[\u001b[49m\u001b[38;5;241;43m0\u001b[39;49m\u001b[43m]\u001b[49m\u001b[43m)\u001b[49m\n\u001b[1;32m    102\u001b[0m lib\u001b[38;5;241m.\u001b[39mLGBM_GetLastError\u001b[38;5;241m.\u001b[39mrestype \u001b[38;5;241m=\u001b[39m ctypes\u001b[38;5;241m.\u001b[39mc_char_p\n\u001b[1;32m    103\u001b[0m callback \u001b[38;5;241m=\u001b[39m ctypes\u001b[38;5;241m.\u001b[39mCFUNCTYPE(\u001b[38;5;28;01mNone\u001b[39;00m, ctypes\u001b[38;5;241m.\u001b[39mc_char_p)\n",
      "File \u001b[0;32m~/anaconda3/lib/python3.10/ctypes/__init__.py:452\u001b[0m, in \u001b[0;36mLibraryLoader.LoadLibrary\u001b[0;34m(self, name)\u001b[0m\n\u001b[1;32m    451\u001b[0m \u001b[38;5;28;01mdef\u001b[39;00m \u001b[38;5;21mLoadLibrary\u001b[39m(\u001b[38;5;28mself\u001b[39m, name):\n\u001b[0;32m--> 452\u001b[0m     \u001b[38;5;28;01mreturn\u001b[39;00m \u001b[38;5;28;43mself\u001b[39;49m\u001b[38;5;241;43m.\u001b[39;49m\u001b[43m_dlltype\u001b[49m\u001b[43m(\u001b[49m\u001b[43mname\u001b[49m\u001b[43m)\u001b[49m\n",
      "File \u001b[0;32m~/anaconda3/lib/python3.10/ctypes/__init__.py:374\u001b[0m, in \u001b[0;36mCDLL.__init__\u001b[0;34m(self, name, mode, handle, use_errno, use_last_error, winmode)\u001b[0m\n\u001b[1;32m    371\u001b[0m \u001b[38;5;28mself\u001b[39m\u001b[38;5;241m.\u001b[39m_FuncPtr \u001b[38;5;241m=\u001b[39m _FuncPtr\n\u001b[1;32m    373\u001b[0m \u001b[38;5;28;01mif\u001b[39;00m handle \u001b[38;5;129;01mis\u001b[39;00m \u001b[38;5;28;01mNone\u001b[39;00m:\n\u001b[0;32m--> 374\u001b[0m     \u001b[38;5;28mself\u001b[39m\u001b[38;5;241m.\u001b[39m_handle \u001b[38;5;241m=\u001b[39m \u001b[43m_dlopen\u001b[49m\u001b[43m(\u001b[49m\u001b[38;5;28;43mself\u001b[39;49m\u001b[38;5;241;43m.\u001b[39;49m\u001b[43m_name\u001b[49m\u001b[43m,\u001b[49m\u001b[43m \u001b[49m\u001b[43mmode\u001b[49m\u001b[43m)\u001b[49m\n\u001b[1;32m    375\u001b[0m \u001b[38;5;28;01melse\u001b[39;00m:\n\u001b[1;32m    376\u001b[0m     \u001b[38;5;28mself\u001b[39m\u001b[38;5;241m.\u001b[39m_handle \u001b[38;5;241m=\u001b[39m handle\n",
      "\u001b[0;31mOSError\u001b[0m: dlopen(/Users/hillaryweaver/anaconda3/lib/python3.10/site-packages/lightgbm/lib_lightgbm.so, 0x0006): Library not loaded: '/usr/local/opt/libomp/lib/libomp.dylib'\n  Referenced from: '/Users/hillaryweaver/anaconda3/lib/python3.10/site-packages/lightgbm/lib_lightgbm.so'\n  Reason: tried: '/usr/local/opt/libomp/lib/libomp.dylib' (no such file), '/usr/local/lib/libomp.dylib' (no such file), '/usr/lib/libomp.dylib' (no such file)"
     ]
    }
   ],
   "source": [
    "import lightgbm as lgb"
   ]
  },
  {
   "cell_type": "code",
   "execution_count": null,
   "id": "7a4db7c5",
   "metadata": {},
   "outputs": [],
   "source": []
  }
 ],
 "metadata": {
  "kernelspec": {
   "display_name": "Python 3 (ipykernel)",
   "language": "python",
   "name": "python3"
  },
  "language_info": {
   "codemirror_mode": {
    "name": "ipython",
    "version": 3
   },
   "file_extension": ".py",
   "mimetype": "text/x-python",
   "name": "python",
   "nbconvert_exporter": "python",
   "pygments_lexer": "ipython3",
   "version": "3.10.9"
  }
 },
 "nbformat": 4,
 "nbformat_minor": 5
}
